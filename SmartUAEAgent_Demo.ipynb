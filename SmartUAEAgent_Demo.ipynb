{
 "cells": [
  {
   "cell_type": "markdown",
   "id": "43c3912a",
   "metadata": {},
   "source": [
    "# SmartUAEAgent — Notebook Demo"
   ]
  },
  {
   "cell_type": "markdown",
   "id": "0c88dad1",
   "metadata": {},
   "source": [
    "\n",
    "This notebook mirrors the console script. Make sure you've installed the dependencies and set your API key\n",
    "for the backend you choose (OpenAI / Gemini / Groq).\n"
   ]
  },
  {
   "cell_type": "code",
   "execution_count": null,
   "id": "09ab6b05",
   "metadata": {},
   "outputs": [],
   "source": [
    "\n",
    "import os, json\n",
    "from smart_uae_agent import build_agent\n",
    "\n",
    "# Choose backend: 'openai' | 'gemini' | 'groq'\n",
    "backend = os.getenv(\"SMARTUAE_LLM\", \"openai\")\n",
    "agent = build_agent(\"uae_knowledge.json\", backend)\n",
    "agent\n"
   ]
  },
  {
   "cell_type": "markdown",
   "id": "cd996eda",
   "metadata": {},
   "source": [
    "## Ask something"
   ]
  },
  {
   "cell_type": "code",
   "execution_count": null,
   "id": "0e870fe4",
   "metadata": {},
   "outputs": [],
   "source": [
    "\n",
    "resp = agent.invoke({\"input\": \"What are must-see attractions in Abu Dhabi?\"})\n",
    "print(resp.get(\"output\"))\n"
   ]
  },
  {
   "cell_type": "code",
   "execution_count": null,
   "id": "b4f75c42",
   "metadata": {},
   "outputs": [],
   "source": [
    "\n",
    "resp = agent.invoke({\"input\": \"Estimate my trip: city=Dubai; days=5; style=luxury\"})\n",
    "print(resp.get(\"output\"))\n"
   ]
  },
  {
   "cell_type": "code",
   "execution_count": null,
   "id": "a07f601b",
   "metadata": {},
   "outputs": [],
   "source": [
    "\n",
    "resp = agent.invoke({\"input\": \"Prayer times: city=Dubai; date=2025-10-01\"})\n",
    "print(resp.get(\"output\"))\n"
   ]
  },
  {
   "cell_type": "code",
   "execution_count": null,
   "id": "3e088f67",
   "metadata": {},
   "outputs": [],
   "source": [
    "\n",
    "resp = agent.invoke({\"input\": \"Plan a 3-day trip in Ras Al Khaimah with culture and nature.\"})\n",
    "print(resp.get(\"output\"))\n"
   ]
  }
 ],
 "metadata": {},
 "nbformat": 4,
 "nbformat_minor": 5
}
