{
 "cells": [
  {
   "cell_type": "markdown",
   "id": "145ffbc5",
   "metadata": {},
   "source": [
    "# SmartUAE — Demo Notebook\n",
    "Use this to test the agent quickly without the CLI."
   ]
  },
  {
   "cell_type": "code",
   "execution_count": null,
   "id": "2095a15a",
   "metadata": {},
   "outputs": [],
   "source": [
    "# Install (only if needed)\n",
    "# !pip install langchain langchain-core langchain-community langchain-openai langchain-google-genai langchain-groq python-dotenv requests tiktoken\n",
    "# !pip install fastapi \"uvicorn[standard]\"\n"
   ]
  },
  {
   "cell_type": "markdown",
   "id": "9a1fbb4b",
   "metadata": {},
   "source": [
    "## 1) Environment"
   ]
  },
  {
   "cell_type": "code",
   "execution_count": null,
   "id": "e7b6b8f9",
   "metadata": {},
   "outputs": [],
   "source": [
    "import os\n",
    "os.environ.setdefault(\"OPENAI_API_KEY\", \"sk-REPLACE\")\n",
    "os.environ.setdefault(\"SMARTUAE_LLM\", \"openai\")\n",
    "os.environ.setdefault(\"SMARTUAE_KB\", \"uae_knowledge_expanded.json\")\n",
    "os.environ.setdefault(\"USE_ALADHAN_API\", \"false\")\n",
    "print(\"LLM:\", os.getenv(\"SMARTUAE_LLM\"))\n",
    "print(\"KB:\", os.getenv(\"SMARTUAE_KB\"))\n",
    "print(\"Prayer API:\", os.getenv(\"USE_ALADHAN_API\"))\n"
   ]
  },
  {
   "cell_type": "markdown",
   "id": "78830abb",
   "metadata": {},
   "source": [
    "## 2) Build agent"
   ]
  },
  {
   "cell_type": "code",
   "execution_count": null,
   "id": "f44408b8",
   "metadata": {},
   "outputs": [],
   "source": [
    "from smart_uae_agent import build_agent\n",
    "agent = build_agent(os.getenv(\"SMARTUAE_KB\"), os.getenv(\"SMARTUAE_LLM\"))\n",
    "agent\n"
   ]
  },
  {
   "cell_type": "markdown",
   "id": "5c93f2fe",
   "metadata": {},
   "source": [
    "## 3) Test queries"
   ]
  },
  {
   "cell_type": "code",
   "execution_count": null,
   "id": "fc8305f0",
   "metadata": {},
   "outputs": [],
   "source": [
    "def ask(q):\n",
    "    resp = agent.invoke({\"input\": q})\n",
    "    print(resp.get(\"output\") or resp)\n",
    "\n",
    "ask(\"What are must-see attractions in Abu Dhabi?\")\n",
    "ask(\"Estimate my trip: city=Dubai; days=5; style=luxury\")\n",
    "ask(\"Get prayer times: city=Dubai; date=2025-10-01\")\n",
    "ask(\"Plan a 3-day trip in Ras Al Khaimah with nature and culture.\")\n"
   ]
  }
 ],
 "metadata": {},
 "nbformat": 4,
 "nbformat_minor": 5
}
